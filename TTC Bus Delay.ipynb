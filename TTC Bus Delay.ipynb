{
 "cells": [
  {
   "cell_type": "markdown",
   "metadata": {},
   "source": [
    "** Introduction\n",
    "Business Context: Transportation systems are complex and interesting for a variety of reasons.... Having obtained multiple open data sets published by the Toronto Transit Commission, it would be interesting to extract relevant insights from it. Due to the size and format of these datasets, using Excel alone will prove to be a difficult task especially as it has multiple variables. \n",
    "\n",
    "Business Problem: My task here is to understand the information that is available and extract key insights. Specifically, I want to answer the following six questions:\n",
    "1. What is the average delay across buses plying the same route?\n",
    "2. What is the average delay across the ttc bus system?\n",
    "3. What is the most frequent incident type that leads to bus delays?\n",
    "4. What is the time period at which most delays occur?\n",
    "5. What is the route with the highest average delay?\n",
    "6. What is the time period which the highest average delay times?\n",
    "\n",
    "Analytical Context: The data is found from Toronto's open data website and contains infromation on bus delays by routes and year. These datasets of delays related to ttc buses are from 2014 to 2017 and are refreshed monthly. It was last refreshed on July 20, 2023. I will: 1) manipulate the data to make it suitable for analysis; and 2) find the relevant players in the different categories related ot the research questions. "
   ]
  },
  {
   "cell_type": "markdown",
   "metadata": {},
   "source": [
    "* ISSUES IDENTIFIED WITH RAW DATASET\n",
    "* From years 2014 to 2021, data is recorded monthly in different worksheets for each workbook representing a specific year. This is different for the years 2022 and 2023.\n"
   ]
  },
  {
   "cell_type": "markdown",
   "metadata": {},
   "source": [
    "################################################## DATA WRANGLING #########################################################"
   ]
  },
  {
   "cell_type": "code",
   "execution_count": 1,
   "metadata": {},
   "outputs": [
    {
     "name": "stdout",
     "output_type": "stream",
     "text": [
      "Requirement already satisfied: openpyxl in /Library/Frameworks/Python.framework/Versions/3.10/lib/python3.10/site-packages (3.1.2)\n",
      "Requirement already satisfied: et-xmlfile in /Library/Frameworks/Python.framework/Versions/3.10/lib/python3.10/site-packages (from openpyxl) (1.1.0)\n",
      "\n",
      "\u001b[1m[\u001b[0m\u001b[34;49mnotice\u001b[0m\u001b[1;39;49m]\u001b[0m\u001b[39;49m A new release of pip available: \u001b[0m\u001b[31;49m22.2.2\u001b[0m\u001b[39;49m -> \u001b[0m\u001b[32;49m23.2.1\u001b[0m\n",
      "\u001b[1m[\u001b[0m\u001b[34;49mnotice\u001b[0m\u001b[1;39;49m]\u001b[0m\u001b[39;49m To update, run: \u001b[0m\u001b[32;49mpip install --upgrade pip\u001b[0m\n",
      "Note: you may need to restart the kernel to use updated packages.\n"
     ]
    }
   ],
   "source": [
    "%pip install openpyxl\n",
    "import pandas as pd\n",
    "import numpy as np"
   ]
  },
  {
   "cell_type": "markdown",
   "metadata": {},
   "source": [
    "Datasets from 2014 to 2021, have 12 excel worksheets, one for each month. For the year 2022 and 2023, the data have been compiled into one worksheet. Using the pd.read_excel and pd.concat functions, bus data for the following years are merged into one worksheet for each year to facilitate data manipulation. "
   ]
  },
  {
   "cell_type": "code",
   "execution_count": 12,
   "metadata": {},
   "outputs": [],
   "source": [
    "yr_2014 = pd.concat(pd.read_excel(\"ttc-bus-delay-data-2014.xlsx\",sheet_name = None),ignore_index = True)\n",
    "yr_2015 = pd.concat(pd.read_excel(\"ttc-bus-delay-data-2015.xlsx\",sheet_name = None), ignore_index = True)\n",
    "yr_2016 = pd.concat(pd.read_excel(\"ttc-bus-delay-data-2016.xlsx\",sheet_name = None), ignore_index = True)\n",
    "yr_2017 = pd.concat(pd.read_excel(\"ttc-bus-delay-data-2017.xlsx\",sheet_name = None), ignore_index = True)\n",
    "yr_2018 = pd.concat(pd.read_excel(\"ttc-bus-delay-data-2018.xlsx\",sheet_name = None), ignore_index = True)\n",
    "yr_2019 = pd.concat(pd.read_excel(\"ttc-bus-delay-data-2019.xlsx\",sheet_name = None), ignore_index = True)\n",
    "yr_2020 = pd.concat(pd.read_excel(\"ttc-bus-delay-data-2020.xlsx\",sheet_name = None), ignore_index = True)\n",
    "yr_2021 = pd.concat(pd.read_excel(\"ttc-bus-delay-data-2021.xlsx\",sheet_name = None), ignore_index = True)\n",
    "yr_2022 = pd.concat(pd.read_excel(\"ttc-bus-delay-data-2022.xlsx\",sheet_name = None), ignore_index = True)\n",
    "yr_2023 = pd.concat(pd.read_excel(\"ttc-bus-delay-data-2023.xlsx\",sheet_name = None), ignore_index = True)"
   ]
  },
  {
   "cell_type": "markdown",
   "metadata": {},
   "source": [
    "Converting the excel files to csv for faster loading and processing in jupyter notebooks"
   ]
  },
  {
   "cell_type": "code",
   "execution_count": 13,
   "metadata": {},
   "outputs": [],
   "source": [
    "yr_2014.to_csv(\"2014\", index = None, header = True)\n",
    "yr_2015.to_csv(\"2015\", index = None, header = True)\n",
    "yr_2016.to_csv(\"2016\", index = None, header = True)\n",
    "yr_2017.to_csv(\"2017\", index = None, header = True)\n",
    "yr_2018.to_csv(\"2018\", index = None, header = True)\n",
    "yr_2019.to_csv(\"2019\", index = None, header = True)\n",
    "yr_2020.to_csv(\"2020\", index = None, header = True)\n",
    "yr_2021.to_csv(\"2021\", index = None, header = True)\n",
    "yr_2022.to_csv(\"2022\", index = None, header = True)\n",
    "yr_2023.to_csv(\"2023\", index = None, header = True)"
   ]
  },
  {
   "cell_type": "markdown",
   "metadata": {},
   "source": [
    "All the csv files will be read into this notebook, automatically converting them into a dataframe and then merged into one large dataset. "
   ]
  },
  {
   "cell_type": "code",
   "execution_count": 14,
   "metadata": {},
   "outputs": [],
   "source": [
    "df_14 = pd.read_csv(\"2014\")\n",
    "df_15 = pd.read_csv(\"2015\")\n",
    "df_16 = pd.read_csv(\"2016\")\n",
    "df_17 = pd.read_csv(\"2017\")\n",
    "df_18 = pd.read_csv(\"2018\")\n",
    "df_19 = pd.read_csv(\"2019\")\n",
    "df_20 = pd.read_csv(\"2020\")\n",
    "df_21 = pd.read_csv(\"2021\")\n",
    "df_22 = pd.read_csv(\"2022\")\n",
    "df_23 = pd.read_csv(\"2023\")"
   ]
  },
  {
   "cell_type": "code",
   "execution_count": 18,
   "metadata": {},
   "outputs": [],
   "source": [
    "ttc_df = pd.concat([df_14,df_15,df_16,df_17,df_18,df_19,df_20,df_21,df_22,df_23], keys = [\"2014\",\"2015\",\"2016\",\"2017\",\"2018\",\"2019\",\"2020\",\"2021\",\"2022\",\"2023\"])\n"
   ]
  },
  {
   "cell_type": "code",
   "execution_count": 25,
   "metadata": {},
   "outputs": [
    {
     "data": {
      "text/html": [
       "<div>\n",
       "<style scoped>\n",
       "    .dataframe tbody tr th:only-of-type {\n",
       "        vertical-align: middle;\n",
       "    }\n",
       "\n",
       "    .dataframe tbody tr th {\n",
       "        vertical-align: top;\n",
       "    }\n",
       "\n",
       "    .dataframe thead th {\n",
       "        text-align: right;\n",
       "    }\n",
       "</style>\n",
       "<table border=\"1\" class=\"dataframe\">\n",
       "  <thead>\n",
       "    <tr style=\"text-align: right;\">\n",
       "      <th></th>\n",
       "      <th></th>\n",
       "      <th>Report Date</th>\n",
       "      <th>Route</th>\n",
       "      <th>Time</th>\n",
       "      <th>Day</th>\n",
       "      <th>Location</th>\n",
       "      <th>Incident</th>\n",
       "      <th>Min Delay</th>\n",
       "      <th>Min Gap</th>\n",
       "      <th>Direction</th>\n",
       "      <th>Vehicle</th>\n",
       "      <th>Min Delay</th>\n",
       "      <th>Incident ID</th>\n",
       "      <th>Delay</th>\n",
       "      <th>Gap</th>\n",
       "      <th>Date</th>\n",
       "      <th>Line</th>\n",
       "      <th>Bound</th>\n",
       "      <th>Unnamed: 10</th>\n",
       "    </tr>\n",
       "  </thead>\n",
       "  <tbody>\n",
       "    <tr>\n",
       "      <th rowspan=\"5\" valign=\"top\">2014</th>\n",
       "      <th>0</th>\n",
       "      <td>2014-01-01</td>\n",
       "      <td>95</td>\n",
       "      <td>00:23:00</td>\n",
       "      <td>Wednesday</td>\n",
       "      <td>York Mills station</td>\n",
       "      <td>Mechanical</td>\n",
       "      <td>10.0</td>\n",
       "      <td>20.0</td>\n",
       "      <td>E</td>\n",
       "      <td>1734.0</td>\n",
       "      <td>NaN</td>\n",
       "      <td>NaN</td>\n",
       "      <td>NaN</td>\n",
       "      <td>NaN</td>\n",
       "      <td>NaN</td>\n",
       "      <td>NaN</td>\n",
       "      <td>NaN</td>\n",
       "      <td>NaN</td>\n",
       "    </tr>\n",
       "    <tr>\n",
       "      <th>1</th>\n",
       "      <td>2014-01-01</td>\n",
       "      <td>102</td>\n",
       "      <td>00:55:00</td>\n",
       "      <td>Wednesday</td>\n",
       "      <td>Entire run for route</td>\n",
       "      <td>General Delay</td>\n",
       "      <td>33.0</td>\n",
       "      <td>66.0</td>\n",
       "      <td>b/w</td>\n",
       "      <td>8110.0</td>\n",
       "      <td>NaN</td>\n",
       "      <td>NaN</td>\n",
       "      <td>NaN</td>\n",
       "      <td>NaN</td>\n",
       "      <td>NaN</td>\n",
       "      <td>NaN</td>\n",
       "      <td>NaN</td>\n",
       "      <td>NaN</td>\n",
       "    </tr>\n",
       "    <tr>\n",
       "      <th>2</th>\n",
       "      <td>2014-01-01</td>\n",
       "      <td>54</td>\n",
       "      <td>01:28:00</td>\n",
       "      <td>Wednesday</td>\n",
       "      <td>lawrence and Warden</td>\n",
       "      <td>Mechanical</td>\n",
       "      <td>10.0</td>\n",
       "      <td>20.0</td>\n",
       "      <td>WB</td>\n",
       "      <td>7478.0</td>\n",
       "      <td>NaN</td>\n",
       "      <td>NaN</td>\n",
       "      <td>NaN</td>\n",
       "      <td>NaN</td>\n",
       "      <td>NaN</td>\n",
       "      <td>NaN</td>\n",
       "      <td>NaN</td>\n",
       "      <td>NaN</td>\n",
       "    </tr>\n",
       "    <tr>\n",
       "      <th>3</th>\n",
       "      <td>2014-01-01</td>\n",
       "      <td>112</td>\n",
       "      <td>01:30:00</td>\n",
       "      <td>Wednesday</td>\n",
       "      <td>Kipling Station</td>\n",
       "      <td>Emergency Services</td>\n",
       "      <td>18.0</td>\n",
       "      <td>36.0</td>\n",
       "      <td>N</td>\n",
       "      <td>8084.0</td>\n",
       "      <td>NaN</td>\n",
       "      <td>NaN</td>\n",
       "      <td>NaN</td>\n",
       "      <td>NaN</td>\n",
       "      <td>NaN</td>\n",
       "      <td>NaN</td>\n",
       "      <td>NaN</td>\n",
       "      <td>NaN</td>\n",
       "    </tr>\n",
       "    <tr>\n",
       "      <th>4</th>\n",
       "      <td>2014-01-01</td>\n",
       "      <td>24</td>\n",
       "      <td>01:37:00</td>\n",
       "      <td>Wednesday</td>\n",
       "      <td>VP and Ellesmere</td>\n",
       "      <td>Investigation</td>\n",
       "      <td>10.0</td>\n",
       "      <td>20.0</td>\n",
       "      <td>n</td>\n",
       "      <td>7843.0</td>\n",
       "      <td>NaN</td>\n",
       "      <td>NaN</td>\n",
       "      <td>NaN</td>\n",
       "      <td>NaN</td>\n",
       "      <td>NaN</td>\n",
       "      <td>NaN</td>\n",
       "      <td>NaN</td>\n",
       "      <td>NaN</td>\n",
       "    </tr>\n",
       "    <tr>\n",
       "      <th>...</th>\n",
       "      <th>...</th>\n",
       "      <td>...</td>\n",
       "      <td>...</td>\n",
       "      <td>...</td>\n",
       "      <td>...</td>\n",
       "      <td>...</td>\n",
       "      <td>...</td>\n",
       "      <td>...</td>\n",
       "      <td>...</td>\n",
       "      <td>...</td>\n",
       "      <td>...</td>\n",
       "      <td>...</td>\n",
       "      <td>...</td>\n",
       "      <td>...</td>\n",
       "      <td>...</td>\n",
       "      <td>...</td>\n",
       "      <td>...</td>\n",
       "      <td>...</td>\n",
       "      <td>...</td>\n",
       "    </tr>\n",
       "    <tr>\n",
       "      <th rowspan=\"5\" valign=\"top\">2023</th>\n",
       "      <th>20235</th>\n",
       "      <td>NaN</td>\n",
       "      <td>11</td>\n",
       "      <td>23:57</td>\n",
       "      <td>Wednesday</td>\n",
       "      <td>DAVISVILLE STATION</td>\n",
       "      <td>Operations - Operator</td>\n",
       "      <td>25.0</td>\n",
       "      <td>50.0</td>\n",
       "      <td>E</td>\n",
       "      <td>8782.0</td>\n",
       "      <td>NaN</td>\n",
       "      <td>NaN</td>\n",
       "      <td>NaN</td>\n",
       "      <td>NaN</td>\n",
       "      <td>2023-05-31</td>\n",
       "      <td>NaN</td>\n",
       "      <td>NaN</td>\n",
       "      <td>NaN</td>\n",
       "    </tr>\n",
       "    <tr>\n",
       "      <th>20236</th>\n",
       "      <td>NaN</td>\n",
       "      <td>11</td>\n",
       "      <td>23:57</td>\n",
       "      <td>Wednesday</td>\n",
       "      <td>DAVISVILLE STATION</td>\n",
       "      <td>General Delay</td>\n",
       "      <td>25.0</td>\n",
       "      <td>50.0</td>\n",
       "      <td>S</td>\n",
       "      <td>8782.0</td>\n",
       "      <td>NaN</td>\n",
       "      <td>NaN</td>\n",
       "      <td>NaN</td>\n",
       "      <td>NaN</td>\n",
       "      <td>2023-05-31</td>\n",
       "      <td>NaN</td>\n",
       "      <td>NaN</td>\n",
       "      <td>NaN</td>\n",
       "    </tr>\n",
       "    <tr>\n",
       "      <th>20237</th>\n",
       "      <td>NaN</td>\n",
       "      <td>37</td>\n",
       "      <td>00:09</td>\n",
       "      <td>Wednesday</td>\n",
       "      <td>ISLINGTON STATION (OUT</td>\n",
       "      <td>Emergency Services</td>\n",
       "      <td>30.0</td>\n",
       "      <td>60.0</td>\n",
       "      <td>S</td>\n",
       "      <td>3343.0</td>\n",
       "      <td>NaN</td>\n",
       "      <td>NaN</td>\n",
       "      <td>NaN</td>\n",
       "      <td>NaN</td>\n",
       "      <td>2023-05-31</td>\n",
       "      <td>NaN</td>\n",
       "      <td>NaN</td>\n",
       "      <td>NaN</td>\n",
       "    </tr>\n",
       "    <tr>\n",
       "      <th>20238</th>\n",
       "      <td>NaN</td>\n",
       "      <td>32</td>\n",
       "      <td>00:32</td>\n",
       "      <td>Wednesday</td>\n",
       "      <td>EGLINTON STATION</td>\n",
       "      <td>Mechanical</td>\n",
       "      <td>15.0</td>\n",
       "      <td>30.0</td>\n",
       "      <td>NaN</td>\n",
       "      <td>1353.0</td>\n",
       "      <td>NaN</td>\n",
       "      <td>NaN</td>\n",
       "      <td>NaN</td>\n",
       "      <td>NaN</td>\n",
       "      <td>2023-05-31</td>\n",
       "      <td>NaN</td>\n",
       "      <td>NaN</td>\n",
       "      <td>NaN</td>\n",
       "    </tr>\n",
       "    <tr>\n",
       "      <th>20239</th>\n",
       "      <td>NaN</td>\n",
       "      <td>43</td>\n",
       "      <td>01:00</td>\n",
       "      <td>Wednesday</td>\n",
       "      <td>KENNEDY AND BRIGSTOCK</td>\n",
       "      <td>Mechanical</td>\n",
       "      <td>10.0</td>\n",
       "      <td>20.0</td>\n",
       "      <td>S</td>\n",
       "      <td>3118.0</td>\n",
       "      <td>NaN</td>\n",
       "      <td>NaN</td>\n",
       "      <td>NaN</td>\n",
       "      <td>NaN</td>\n",
       "      <td>2023-05-31</td>\n",
       "      <td>NaN</td>\n",
       "      <td>NaN</td>\n",
       "      <td>NaN</td>\n",
       "    </tr>\n",
       "  </tbody>\n",
       "</table>\n",
       "<p>611788 rows × 18 columns</p>\n",
       "</div>"
      ],
      "text/plain": [
       "           Report Date Route      Time        Day                Location  \\\n",
       "2014 0      2014-01-01    95  00:23:00  Wednesday      York Mills station   \n",
       "     1      2014-01-01   102  00:55:00  Wednesday    Entire run for route   \n",
       "     2      2014-01-01    54  01:28:00  Wednesday     lawrence and Warden   \n",
       "     3      2014-01-01   112  01:30:00  Wednesday         Kipling Station   \n",
       "     4      2014-01-01    24  01:37:00  Wednesday        VP and Ellesmere   \n",
       "...                ...   ...       ...        ...                     ...   \n",
       "2023 20235         NaN    11     23:57  Wednesday      DAVISVILLE STATION   \n",
       "     20236         NaN    11     23:57  Wednesday      DAVISVILLE STATION   \n",
       "     20237         NaN    37     00:09  Wednesday  ISLINGTON STATION (OUT   \n",
       "     20238         NaN    32     00:32  Wednesday        EGLINTON STATION   \n",
       "     20239         NaN    43     01:00  Wednesday   KENNEDY AND BRIGSTOCK   \n",
       "\n",
       "                         Incident  Min Delay  Min Gap Direction  Vehicle  \\\n",
       "2014 0                 Mechanical       10.0     20.0         E   1734.0   \n",
       "     1              General Delay       33.0     66.0       b/w   8110.0   \n",
       "     2                 Mechanical       10.0     20.0        WB   7478.0   \n",
       "     3         Emergency Services       18.0     36.0         N   8084.0   \n",
       "     4              Investigation       10.0     20.0         n   7843.0   \n",
       "...                           ...        ...      ...       ...      ...   \n",
       "2023 20235  Operations - Operator       25.0     50.0         E   8782.0   \n",
       "     20236          General Delay       25.0     50.0         S   8782.0   \n",
       "     20237     Emergency Services       30.0     60.0         S   3343.0   \n",
       "     20238             Mechanical       15.0     30.0       NaN   1353.0   \n",
       "     20239             Mechanical       10.0     20.0         S   3118.0   \n",
       "\n",
       "             Min Delay  Incident ID  Delay  Gap        Date Line Bound  \\\n",
       "2014 0             NaN          NaN    NaN  NaN         NaN  NaN   NaN   \n",
       "     1             NaN          NaN    NaN  NaN         NaN  NaN   NaN   \n",
       "     2             NaN          NaN    NaN  NaN         NaN  NaN   NaN   \n",
       "     3             NaN          NaN    NaN  NaN         NaN  NaN   NaN   \n",
       "     4             NaN          NaN    NaN  NaN         NaN  NaN   NaN   \n",
       "...                ...          ...    ...  ...         ...  ...   ...   \n",
       "2023 20235         NaN          NaN    NaN  NaN  2023-05-31  NaN   NaN   \n",
       "     20236         NaN          NaN    NaN  NaN  2023-05-31  NaN   NaN   \n",
       "     20237         NaN          NaN    NaN  NaN  2023-05-31  NaN   NaN   \n",
       "     20238         NaN          NaN    NaN  NaN  2023-05-31  NaN   NaN   \n",
       "     20239         NaN          NaN    NaN  NaN  2023-05-31  NaN   NaN   \n",
       "\n",
       "           Unnamed: 10  \n",
       "2014 0             NaN  \n",
       "     1             NaN  \n",
       "     2             NaN  \n",
       "     3             NaN  \n",
       "     4             NaN  \n",
       "...                ...  \n",
       "2023 20235         NaN  \n",
       "     20236         NaN  \n",
       "     20237         NaN  \n",
       "     20238         NaN  \n",
       "     20239         NaN  \n",
       "\n",
       "[611788 rows x 18 columns]"
      ]
     },
     "execution_count": 25,
     "metadata": {},
     "output_type": "execute_result"
    }
   ],
   "source": [
    "ttc_df"
   ]
  },
  {
   "cell_type": "markdown",
   "metadata": {},
   "source": [
    "The dataset has over 600,000 rows. \n",
    "Insights gained from the first few rows:\n",
    "- We see that 'Year' ranges from 2014 to 2023. \n",
    "- The 'Time' column has some values in 12 hr format and others in 24 hr format\n",
    "- The 'Report Date' and 'Date' columns have the same type of values\n",
    "- The 'Location' and 'Direction' colums have are a mixture of different cases: upper and lower cases"
   ]
  },
  {
   "cell_type": "markdown",
   "metadata": {},
   "source": [
    "As 'Route', 'Day', 'Location', and 'Incident' seem to be categorical variables, we can find out how many unique values exist for each of these.  "
   ]
  },
  {
   "cell_type": "code",
   "execution_count": 26,
   "metadata": {},
   "outputs": [
    {
     "data": {
      "text/plain": [
       "2014  0         95\n",
       "      1        102\n",
       "      2         54\n",
       "      3        112\n",
       "      4         24\n",
       "              ... \n",
       "2023  11765    128\n",
       "      13578    810\n",
       "      16108    232\n",
       "      17058    202\n",
       "      19728    200\n",
       "Name: Route, Length: 935, dtype: object"
      ]
     },
     "execution_count": 26,
     "metadata": {},
     "output_type": "execute_result"
    }
   ],
   "source": [
    "# Route\n",
    "ttc_df[\"Route\"].drop_duplicates()"
   ]
  },
  {
   "cell_type": "markdown",
   "metadata": {},
   "source": [
    "There are 935 unique values in the 'Route' column indicating 935 different routes in the TTC system. This is more than the actual number of routes in the transit system because this list contains inactive/cancelled routes such as 232 and 810."
   ]
  },
  {
   "cell_type": "code",
   "execution_count": 27,
   "metadata": {},
   "outputs": [
    {
     "data": {
      "text/plain": [
       "2014  0       Wednesday\n",
       "      125      Thursday\n",
       "      588        Friday\n",
       "      1113     Saturday\n",
       "      1338       Sunday\n",
       "      1435       Monday\n",
       "      1857      Tuesday\n",
       "Name: Day, dtype: object"
      ]
     },
     "execution_count": 27,
     "metadata": {},
     "output_type": "execute_result"
    }
   ],
   "source": [
    "# Day\n",
    "ttc_df[\"Day\"].drop_duplicates()"
   ]
  },
  {
   "cell_type": "markdown",
   "metadata": {},
   "source": [
    "There are 7 unique days as expected. The transit system is operative 7 days in a week."
   ]
  },
  {
   "cell_type": "code",
   "execution_count": 28,
   "metadata": {},
   "outputs": [
    {
     "data": {
      "text/plain": [
       "2014  0            York Mills station\n",
       "      1          Entire run for route\n",
       "      2           lawrence and Warden\n",
       "      3               Kipling Station\n",
       "      4              VP and Ellesmere\n",
       "                        ...          \n",
       "2023  20204    GLENCAIRN AD DANESBURY\n",
       "      20211      ATTWELL AND DISCO RD\n",
       "      20212      GRENOBLE AND VANDOME\n",
       "      20214     MCCOWAN AND MILNER (S\n",
       "      20237    ISLINGTON STATION (OUT\n",
       "Name: Location, Length: 120699, dtype: object"
      ]
     },
     "execution_count": 28,
     "metadata": {},
     "output_type": "execute_result"
    }
   ],
   "source": [
    "# Location\n",
    "ttc_df[\"Location\"].drop_duplicates()"
   ]
  },
  {
   "cell_type": "markdown",
   "metadata": {},
   "source": [
    "There are apparently 120669 unique locations but this is more than the actual number due to the different cases influencing the uniqueness of the values."
   ]
  },
  {
   "cell_type": "code",
   "execution_count": 29,
   "metadata": {},
   "outputs": [
    {
     "data": {
      "text/plain": [
       "2014  0                                Mechanical\n",
       "      1                             General Delay\n",
       "      3                        Emergency Services\n",
       "      4                             Investigation\n",
       "      11                                Diversion\n",
       "      20                       Utilized Off Route\n",
       "      22                      Late Leaving Garage\n",
       "2019  14555                                Vision\n",
       "      19419                                   NaN\n",
       "      24221        Late Leaving Garage - Operator\n",
       "      24223      Late Leaving Garage - Mechanical\n",
       "      24247      Late Leaving Garage - Management\n",
       "      52475          Late Leaving Garage - Vision\n",
       "2020  15605                            Management\n",
       "      24860                 Operations - Operator\n",
       "      24861                              Cleaning\n",
       "      24867                              Security\n",
       "      24870                       Collision - TTC\n",
       "      24887      Road Blocked - NON-TTC Collision\n",
       "      25037        Road Block - Non-TTC Collision\n",
       "      26466      Roadblock by Collision - Non-TTC\n",
       "      28415                             Securitty\n",
       "      30763    Late Entering Service - Mechanical\n",
       "      31032                   Utilizing Off Route\n",
       "2021  2134                                Held By\n",
       "      2714       Late Leaving Garage - Operations\n",
       "      3505                                      e\n",
       "      10819                 Late Entering Service\n",
       "      18582                      Collision - TTC \n",
       "      24469                            Operations\n",
       "      24473                 Cleaning - Unsanitary\n",
       "      24476               Cleaning - Disinfection\n",
       "      24485              Collision - TTC Involved\n",
       "      24550                                  Late\n",
       "      24660                              Overhead\n",
       "      24695                         Rail/Switches\n",
       "Name: Incident, dtype: object"
      ]
     },
     "execution_count": 29,
     "metadata": {},
     "output_type": "execute_result"
    }
   ],
   "source": [
    "ttc_df[\"Incident\"].drop_duplicates()"
   ]
  },
  {
   "cell_type": "markdown",
   "metadata": {},
   "source": [
    "There seem to be more incident categories than expected. This can be attributed to the different wordings used for incident types of the same nature. "
   ]
  },
  {
   "cell_type": "code",
   "execution_count": null,
   "metadata": {},
   "outputs": [],
   "source": []
  }
 ],
 "metadata": {
  "kernelspec": {
   "display_name": "Python 3",
   "language": "python",
   "name": "python3"
  },
  "language_info": {
   "codemirror_mode": {
    "name": "ipython",
    "version": 3
   },
   "file_extension": ".py",
   "mimetype": "text/x-python",
   "name": "python",
   "nbconvert_exporter": "python",
   "pygments_lexer": "ipython3",
   "version": "3.10.5"
  },
  "orig_nbformat": 4
 },
 "nbformat": 4,
 "nbformat_minor": 2
}
